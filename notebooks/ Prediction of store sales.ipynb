{
 "cells": [
  {
   "cell_type": "code",
   "execution_count": 6,
   "id": "e767695e",
   "metadata": {},
   "outputs": [
    {
     "name": "stdout",
     "output_type": "stream",
     "text": [
      "Collecting package metadata (current_repodata.json): done\n",
      "Solving environment: done\n",
      "\n",
      "## Package Plan ##\n",
      "\n",
      "  environment location: /Users/bez/opt/anaconda3\n",
      "\n",
      "  added / updated specs:\n",
      "    - fbprophet\n",
      "\n",
      "\n",
      "The following packages will be downloaded:\n",
      "\n",
      "    package                    |            build\n",
      "    ---------------------------|-----------------\n",
      "    arviz-0.11.2               |     pyhd8ed1ab_1         1.4 MB  conda-forge\n",
      "    cctools-927.0.2            |       h5ba7a2e_4         965 KB\n",
      "    cftime-1.5.0               |   py38h0793694_0         184 KB  conda-forge\n",
      "    clang-10.0.0               |default_hf57f61e_0        10.0 MB\n",
      "    clang_osx-64-10.0.0        |       h05bbb7f_0          15 KB\n",
      "    clangxx_osx-64-10.0.0      |       h05bbb7f_1          22 KB\n",
      "    compiler-rt-10.0.0         |       h47ead80_0          82 KB\n",
      "    compiler-rt_osx-64-10.0.0  |       hbcc88fd_0         1.4 MB\n",
      "    convertdate-2.3.2          |     pyhd8ed1ab_0          37 KB  conda-forge\n",
      "    ephem-4.0.0.2              |   py38h96a0964_0         711 KB  conda-forge\n",
      "    fbprophet-0.7.1            |   py38h11c0d25_0         647 KB  conda-forge\n",
      "    h5py-3.3.0                 |nompi_py38h9a16e60_100         1.1 MB  conda-forge\n",
      "    hdf4-4.2.13                |       h39711bb_2         682 KB\n",
      "    hdf5-1.10.6                |       hdbbcd12_0         3.0 MB\n",
      "    hijri-converter-2.1.3      |     pyhd8ed1ab_0          17 KB  conda-forge\n",
      "    holidays-0.11.2            |     pyhd8ed1ab_0          71 KB  conda-forge\n",
      "    korean_lunar_calendar-0.2.1|     pyh9f0ad1d_0          10 KB  conda-forge\n",
      "    lunarcalendar-0.0.9        |             py_0          20 KB  conda-forge\n",
      "    netcdf4-1.5.7              |   py38h1695cb1_0         403 KB\n",
      "    pystan-2.19.1.1            |   py38h6be0db6_2        17.3 MB  conda-forge\n",
      "    pytables-3.6.1             |   py38hfb086ad_3         1.4 MB  conda-forge\n",
      "    tapi-1000.10.8             |       ha1b3eb9_0         4.2 MB\n",
      "    xarray-0.19.0              |     pyhd8ed1ab_1         614 KB  conda-forge\n",
      "    ------------------------------------------------------------\n",
      "                                           Total:        44.1 MB\n",
      "\n",
      "The following NEW packages will be INSTALLED:\n",
      "\n",
      "  arviz              conda-forge/noarch::arviz-0.11.2-pyhd8ed1ab_1\n",
      "  cctools            pkgs/main/osx-64::cctools-927.0.2-h5ba7a2e_4\n",
      "  cftime             conda-forge/osx-64::cftime-1.5.0-py38h0793694_0\n",
      "  clang              pkgs/main/osx-64::clang-10.0.0-default_hf57f61e_0\n",
      "  clang_osx-64       pkgs/main/osx-64::clang_osx-64-10.0.0-h05bbb7f_0\n",
      "  clangxx            pkgs/main/osx-64::clangxx-10.0.0-default_hf57f61e_0\n",
      "  clangxx_osx-64     pkgs/main/osx-64::clangxx_osx-64-10.0.0-h05bbb7f_1\n",
      "  compiler-rt        pkgs/main/osx-64::compiler-rt-10.0.0-h47ead80_0\n",
      "  compiler-rt_osx-64 pkgs/main/noarch::compiler-rt_osx-64-10.0.0-hbcc88fd_0\n",
      "  convertdate        conda-forge/noarch::convertdate-2.3.2-pyhd8ed1ab_0\n",
      "  ephem              conda-forge/osx-64::ephem-4.0.0.2-py38h96a0964_0\n",
      "  fbprophet          conda-forge/osx-64::fbprophet-0.7.1-py38h11c0d25_0\n",
      "  hdf4               pkgs/main/osx-64::hdf4-4.2.13-h39711bb_2\n",
      "  hijri-converter    conda-forge/noarch::hijri-converter-2.1.3-pyhd8ed1ab_0\n",
      "  holidays           conda-forge/noarch::holidays-0.11.2-pyhd8ed1ab_0\n",
      "  korean_lunar_cale~ conda-forge/noarch::korean_lunar_calendar-0.2.1-pyh9f0ad1d_0\n",
      "  ld64               pkgs/main/osx-64::ld64-450.3-h3c32e8a_4\n",
      "  libnetcdf          pkgs/main/osx-64::libnetcdf-4.6.1-hfd9a460_4\n",
      "  lunarcalendar      conda-forge/noarch::lunarcalendar-0.0.9-py_0\n",
      "  netcdf4            pkgs/main/osx-64::netcdf4-1.5.7-py38h1695cb1_0\n",
      "  pymeeus            conda-forge/noarch::pymeeus-0.5.10-pyhd8ed1ab_0\n",
      "  pystan             conda-forge/osx-64::pystan-2.19.1.1-py38h6be0db6_2\n",
      "  tapi               pkgs/main/osx-64::tapi-1000.10.8-ha1b3eb9_0\n",
      "  xarray             conda-forge/noarch::xarray-0.19.0-pyhd8ed1ab_1\n",
      "\n",
      "The following packages will be UPDATED:\n",
      "\n",
      "  h5py                pkgs/main::h5py-2.10.0-py38h3134771_0 --> conda-forge::h5py-3.3.0-nompi_py38h9a16e60_100\n",
      "  hdf5                                    1.10.4-hfa1e0ec_0 --> 1.10.6-hdbbcd12_0\n",
      "  pytables           pkgs/main::pytables-3.6.1-py38h4727e9~ --> conda-forge::pytables-3.6.1-py38hfb086ad_3\n",
      "\n",
      "\n",
      "\n",
      "Downloading and Extracting Packages\n",
      "netcdf4-1.5.7        | 403 KB    | ##################################### | 100% \n",
      "lunarcalendar-0.0.9  | 20 KB     | ##################################### | 100% \n",
      "hdf5-1.10.6          | 3.0 MB    | ##################################### | 100% \n",
      "xarray-0.19.0        | 614 KB    | ##################################### | 100% \n",
      "tapi-1000.10.8       | 4.2 MB    | ##################################### | 100% \n",
      "clang-10.0.0         | 10.0 MB   | ##################################### | 100% \n",
      "ephem-4.0.0.2        | 711 KB    | ##################################### | 100% \n",
      "fbprophet-0.7.1      | 647 KB    | ##################################### | 100% \n",
      "holidays-0.11.2      | 71 KB     | ##################################### | 100% \n",
      "cftime-1.5.0         | 184 KB    | ##################################### | 100% \n",
      "arviz-0.11.2         | 1.4 MB    | ##################################### | 100% \n",
      "compiler-rt_osx-64-1 | 1.4 MB    | ##################################### | 100% \n",
      "pytables-3.6.1       | 1.4 MB    | ##################################### | 100% \n",
      "hdf4-4.2.13          | 682 KB    | ##################################### | 100% \n",
      "compiler-rt-10.0.0   | 82 KB     | ##################################### | 100% \n",
      "hijri-converter-2.1. | 17 KB     | ##################################### | 100% \n",
      "convertdate-2.3.2    | 37 KB     | ##################################### | 100% \n",
      "clang_osx-64-10.0.0  | 15 KB     | ##################################### | 100% \n",
      "cctools-927.0.2      | 965 KB    | ##################################### | 100% \n",
      "korean_lunar_calenda | 10 KB     | ##################################### | 100% \n",
      "pystan-2.19.1.1      | 17.3 MB   | ##################################### | 100% \n",
      "h5py-3.3.0           | 1.1 MB    | ##################################### | 100% \n",
      "clangxx_osx-64-10.0. | 22 KB     | ##################################### | 100% \n",
      "Preparing transaction: done\n",
      "Verifying transaction: done\n",
      "Executing transaction: done\n"
     ]
    }
   ],
   "source": [
    "!conda install -c conda-forge fbprophet -y"
   ]
  },
  {
   "cell_type": "code",
   "execution_count": 10,
   "id": "5966f824",
   "metadata": {},
   "outputs": [
    {
     "name": "stdout",
     "output_type": "stream",
     "text": [
      "Requirement already satisfied: plotly in /Users/bez/opt/anaconda3/lib/python3.8/site-packages (5.1.0)\n",
      "Requirement already satisfied: tenacity>=6.2.0 in /Users/bez/opt/anaconda3/lib/python3.8/site-packages (from plotly) (8.0.1)\n",
      "Requirement already satisfied: six in /Users/bez/opt/anaconda3/lib/python3.8/site-packages (from plotly) (1.15.0)\n"
     ]
    }
   ],
   "source": [
    "!pip install --upgrade plotly"
   ]
  },
  {
   "cell_type": "code",
   "execution_count": 41,
   "id": "8813b130",
   "metadata": {},
   "outputs": [],
   "source": [
    "%matplotlib inline\n",
    "\n",
    "import numpy as np\n",
    "import pandas as pd\n",
    "from pandas import datetime\n",
    "\n",
    "import matplotlib.pyplot as plt\n",
    "import seaborn as sns\n",
    "sns.set()\n",
    "\n",
    "import statsmodels.api as sm\n",
    "import scipy.stats as stats\n",
    "from statsmodels.distributions.empirical_distribution import ECDF\n",
    "from sklearn.preprocessing import StandardScaler\n",
    "\n",
    "# time series analysis\n",
    "from statsmodels.tsa.seasonal import seasonal_decompose\n",
    "from statsmodels.graphics.tsaplots import plot_acf, plot_pacf\n",
    "\n",
    "# prophet by Facebook\n",
    "from fbprophet import Prophet\n",
    "\n"
   ]
  },
  {
   "cell_type": "code",
   "execution_count": 51,
   "id": "bf118f83",
   "metadata": {},
   "outputs": [],
   "source": [
    "# importing the datas to the notebook\n",
    "train = pd.read_csv('../data/train.csv',low_memory=False) #\n",
    "test = pd.read_csv('../data/test.csv',low_memory=False)\n",
    "store= pd.read_csv('../data/store.csv',low_memory=False)"
   ]
  },
  {
   "cell_type": "code",
   "execution_count": 52,
   "id": "499a14a5",
   "metadata": {},
   "outputs": [],
   "source": [
    "train_all = pd.read_csv('../data/train.csv',parse_dates = True, low_memory = False, index_col = 'Date' )"
   ]
  },
  {
   "cell_type": "code",
   "execution_count": 53,
   "id": "5e1180f8",
   "metadata": {},
   "outputs": [
    {
     "data": {
      "text/plain": [
       "<AxesSubplot:xlabel='Customers', ylabel='Sales'>"
      ]
     },
     "execution_count": 53,
     "metadata": {},
     "output_type": "execute_result"
    },
    {
     "data": {
      "image/png": "[encoded data removed]",
      "text/plain": [
       "<Figure size 432x288 with 1 Axes>"
      ]
     },
     "metadata": {},
     "output_type": "display_data"
    }
   ],
   "source": [
    "#customer vs sales\n",
    "a = train_all[train_all.Open ==1]\n",
    "sns.lineplot(x = 'Customers', y = 'Sales', data=a)"
   ]
  },
  {
   "cell_type": "code",
   "execution_count": 56,
   "id": "b55c3d3f",
   "metadata": {},
   "outputs": [
    {
     "name": "stdout",
     "output_type": "stream",
     "text": [
      "In total:  (1017209, 9)\n"
     ]
    },
    {
     "data": {
      "text/html": [
       "<div>\n",
       "<style scoped>\n",
       "    .dataframe tbody tr th:only-of-type {\n",
       "        vertical-align: middle;\n",
       "    }\n",
       "\n",
       "    .dataframe tbody tr th {\n",
       "        vertical-align: top;\n",
       "    }\n",
       "\n",
       "    .dataframe thead th {\n",
       "        text-align: right;\n",
       "    }\n",
       "</style>\n",
       "<table border=\"1\" class=\"dataframe\">\n",
       "  <thead>\n",
       "    <tr style=\"text-align: right;\">\n",
       "      <th></th>\n",
       "      <th>Store</th>\n",
       "      <th>DayOfWeek</th>\n",
       "      <th>Date</th>\n",
       "      <th>Sales</th>\n",
       "      <th>Customers</th>\n",
       "      <th>Open</th>\n",
       "      <th>Promo</th>\n",
       "      <th>StateHoliday</th>\n",
       "      <th>SchoolHoliday</th>\n",
       "    </tr>\n",
       "  </thead>\n",
       "  <tbody>\n",
       "    <tr>\n",
       "      <th>0</th>\n",
       "      <td>1</td>\n",
       "      <td>5</td>\n",
       "      <td>2015-07-31</td>\n",
       "      <td>5263</td>\n",
       "      <td>555</td>\n",
       "      <td>1</td>\n",
       "      <td>1</td>\n",
       "      <td>0</td>\n",
       "      <td>1</td>\n",
       "    </tr>\n",
       "    <tr>\n",
       "      <th>1</th>\n",
       "      <td>2</td>\n",
       "      <td>5</td>\n",
       "      <td>2015-07-31</td>\n",
       "      <td>6064</td>\n",
       "      <td>625</td>\n",
       "      <td>1</td>\n",
       "      <td>1</td>\n",
       "      <td>0</td>\n",
       "      <td>1</td>\n",
       "    </tr>\n",
       "    <tr>\n",
       "      <th>2</th>\n",
       "      <td>3</td>\n",
       "      <td>5</td>\n",
       "      <td>2015-07-31</td>\n",
       "      <td>8314</td>\n",
       "      <td>821</td>\n",
       "      <td>1</td>\n",
       "      <td>1</td>\n",
       "      <td>0</td>\n",
       "      <td>1</td>\n",
       "    </tr>\n",
       "    <tr>\n",
       "      <th>3</th>\n",
       "      <td>4</td>\n",
       "      <td>5</td>\n",
       "      <td>2015-07-31</td>\n",
       "      <td>13995</td>\n",
       "      <td>1498</td>\n",
       "      <td>1</td>\n",
       "      <td>1</td>\n",
       "      <td>0</td>\n",
       "      <td>1</td>\n",
       "    </tr>\n",
       "    <tr>\n",
       "      <th>4</th>\n",
       "      <td>5</td>\n",
       "      <td>5</td>\n",
       "      <td>2015-07-31</td>\n",
       "      <td>4822</td>\n",
       "      <td>559</td>\n",
       "      <td>1</td>\n",
       "      <td>1</td>\n",
       "      <td>0</td>\n",
       "      <td>1</td>\n",
       "    </tr>\n",
       "  </tbody>\n",
       "</table>\n",
       "</div>"
      ],
      "text/plain": [
       "   Store  DayOfWeek        Date  Sales  Customers  Open  Promo StateHoliday  \\\n",
       "0      1          5  2015-07-31   5263        555     1      1            0   \n",
       "1      2          5  2015-07-31   6064        625     1      1            0   \n",
       "2      3          5  2015-07-31   8314        821     1      1            0   \n",
       "3      4          5  2015-07-31  13995       1498     1      1            0   \n",
       "4      5          5  2015-07-31   4822        559     1      1            0   \n",
       "\n",
       "   SchoolHoliday  \n",
       "0              1  \n",
       "1              1  \n",
       "2              1  \n",
       "3              1  \n",
       "4              1  "
      ]
     },
     "execution_count": 56,
     "metadata": {},
     "output_type": "execute_result"
    }
   ],
   "source": [
    "print(\"In total: \", train.shape)\n",
    "train.head()"
   ]
  },
  {
   "cell_type": "code",
   "execution_count": 59,
   "id": "5ca3458a",
   "metadata": {},
   "outputs": [
    {
     "data": {
      "text/plain": [
       "RangeIndex(start=0, stop=1017209, step=1)"
      ]
     },
     "execution_count": 59,
     "metadata": {},
     "output_type": "execute_result"
    }
   ],
   "source": [
    "train.index"
   ]
  },
  {
   "cell_type": "code",
   "execution_count": 60,
   "id": "341d255b",
   "metadata": {},
   "outputs": [
    {
     "ename": "AttributeError",
     "evalue": "'RangeIndex' object has no attribute 'year'",
     "output_type": "error",
     "traceback": [
      "\u001b[0;31m---------------------------------------------------------------------------\u001b[0m",
      "\u001b[0;31mAttributeError\u001b[0m                            Traceback (most recent call last)",
      "\u001b[0;32m<ipython-input-60-42256a8a38ce>\u001b[0m in \u001b[0;36m<module>\u001b[0;34m\u001b[0m\n\u001b[1;32m      1\u001b[0m \u001b[0;31m# data extraction\u001b[0m\u001b[0;34m\u001b[0m\u001b[0;34m\u001b[0m\u001b[0;34m\u001b[0m\u001b[0m\n\u001b[0;32m----> 2\u001b[0;31m \u001b[0mtrain\u001b[0m\u001b[0;34m[\u001b[0m\u001b[0;34m'Year'\u001b[0m\u001b[0;34m]\u001b[0m \u001b[0;34m=\u001b[0m \u001b[0mtrain\u001b[0m\u001b[0;34m.\u001b[0m\u001b[0mindex\u001b[0m\u001b[0;34m.\u001b[0m\u001b[0myear\u001b[0m\u001b[0;34m\u001b[0m\u001b[0;34m\u001b[0m\u001b[0m\n\u001b[0m\u001b[1;32m      3\u001b[0m \u001b[0mtrain\u001b[0m\u001b[0;34m[\u001b[0m\u001b[0;34m'Month'\u001b[0m\u001b[0;34m]\u001b[0m \u001b[0;34m=\u001b[0m \u001b[0mtrain\u001b[0m\u001b[0;34m.\u001b[0m\u001b[0mindex\u001b[0m\u001b[0;34m.\u001b[0m\u001b[0mmonth\u001b[0m\u001b[0;34m\u001b[0m\u001b[0;34m\u001b[0m\u001b[0m\n\u001b[1;32m      4\u001b[0m \u001b[0mtrain\u001b[0m\u001b[0;34m[\u001b[0m\u001b[0;34m'Day'\u001b[0m\u001b[0;34m]\u001b[0m \u001b[0;34m=\u001b[0m \u001b[0mtrain\u001b[0m\u001b[0;34m.\u001b[0m\u001b[0mindex\u001b[0m\u001b[0;34m.\u001b[0m\u001b[0mday\u001b[0m\u001b[0;34m\u001b[0m\u001b[0;34m\u001b[0m\u001b[0m\n\u001b[1;32m      5\u001b[0m \u001b[0mtrain\u001b[0m\u001b[0;34m[\u001b[0m\u001b[0;34m'WeekOfYear'\u001b[0m\u001b[0;34m]\u001b[0m \u001b[0;34m=\u001b[0m \u001b[0mtrain\u001b[0m\u001b[0;34m.\u001b[0m\u001b[0mindex\u001b[0m\u001b[0;34m.\u001b[0m\u001b[0mweekofyear\u001b[0m\u001b[0;34m\u001b[0m\u001b[0;34m\u001b[0m\u001b[0m\n",
      "\u001b[0;31mAttributeError\u001b[0m: 'RangeIndex' object has no attribute 'year'"
     ]
    }
   ],
   "source": [
    "# data extraction\n",
    "train['Year'] = train.index.year\n",
    "train['Month'] = train.index.month\n",
    "train['Day'] = train.index.day\n",
    "train['WeekOfYear'] = train.index.weekofyear\n",
    "\n",
    "# adding new variable\n",
    "train['SalePerCustomer'] = train['Sales']/train['Customers']\n",
    "train['SalePerCustomer'].describe()"
   ]
  },
  {
   "cell_type": "code",
   "execution_count": null,
   "id": "c061b5ea",
   "metadata": {},
   "outputs": [],
   "source": []
  }
 ],
 "metadata": {
  "kernelspec": {
   "display_name": "Python 3",
   "language": "python",
   "name": "python3"
  }
 },
 "nbformat": 4,
 "nbformat_minor": 5
}
